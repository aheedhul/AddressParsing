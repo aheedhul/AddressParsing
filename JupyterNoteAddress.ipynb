{
 "cells": [
  {
   "cell_type": "code",
   "execution_count": 8,
   "metadata": {},
   "outputs": [
    {
     "name": "stdout",
     "output_type": "stream",
     "text": [
      "Epoch 1, Losses: {'ner': np.float32(181.48045)}\n",
      "Epoch 2, Losses: {'ner': np.float32(118.93549)}\n",
      "Epoch 3, Losses: {'ner': np.float32(93.89517)}\n",
      "Epoch 4, Losses: {'ner': np.float32(83.23425)}\n",
      "Epoch 5, Losses: {'ner': np.float32(51.556496)}\n",
      "Epoch 6, Losses: {'ner': np.float32(38.827915)}\n",
      "Epoch 7, Losses: {'ner': np.float32(32.61917)}\n",
      "Epoch 8, Losses: {'ner': np.float32(28.021118)}\n",
      "Epoch 9, Losses: {'ner': np.float32(27.571054)}\n",
      "Epoch 10, Losses: {'ner': np.float32(22.102154)}\n",
      "Epoch 11, Losses: {'ner': np.float32(29.907356)}\n",
      "Epoch 12, Losses: {'ner': np.float32(24.942862)}\n",
      "Epoch 13, Losses: {'ner': np.float32(21.905954)}\n",
      "Epoch 14, Losses: {'ner': np.float32(16.954334)}\n",
      "Epoch 15, Losses: {'ner': np.float32(22.03499)}\n",
      "Epoch 16, Losses: {'ner': np.float32(11.817067)}\n",
      "Epoch 17, Losses: {'ner': np.float32(22.686808)}\n",
      "Epoch 18, Losses: {'ner': np.float32(21.24961)}\n",
      "Epoch 19, Losses: {'ner': np.float32(14.538632)}\n",
      "Epoch 20, Losses: {'ner': np.float32(18.446405)}\n"
     ]
    }
   ],
   "source": [
    "import spacy\n",
    "import json\n",
    "from spacy.training import Example\n",
    "import random\n",
    "\n",
    "# Load the annotated data from the JSON file\n",
    "with open(r\"D:\\SpaCy\\spcyenv\\merged_annotations.json\", 'r') as f:\n",
    "    data = json.load(f)\n",
    "\n",
    "# Verify the structure of the loaded data\n",
    "if not isinstance(data, list):\n",
    "    raise ValueError(\"Loaded JSON data is not a list. Please check the file format.\")\n",
    "\n",
    "# Prepare the data for spaCy\n",
    "TRAIN_DATA = []\n",
    "\n",
    "for item in data:\n",
    "    if not isinstance(item, dict):\n",
    "        raise ValueError(\"Each item in the JSON data should be a dictionary.\")\n",
    "    text = item.get('text')\n",
    "    entities = item.get('entities')\n",
    "    \n",
    "    if text is None or entities is None:\n",
    "        raise ValueError(\"Each item should contain 'text' and 'entities' keys.\")\n",
    "    \n",
    "    # Ensure entities is a list of dictionaries\n",
    "    if not isinstance(entities, list) or not all(isinstance(ent, dict) for ent in entities):\n",
    "        raise ValueError(\"'entities' should be a list of dictionaries.\")\n",
    "    \n",
    "    # Extract and prepare the training data\n",
    "    entity_list = [(ent['start'], ent['end'], ent['label']) for ent in entities]\n",
    "    TRAIN_DATA.append((text, {\"entities\": entity_list}))\n",
    "\n",
    "# Create a blank English model\n",
    "nlp = spacy.blank(\"en\")\n",
    "\n",
    "# Add the NER component to the pipeline\n",
    "ner = nlp.add_pipe(\"ner\")\n",
    "\n",
    "# Add custom labels to the NER component\n",
    "ner.add_label(\"DOOR_NO\")\n",
    "ner.add_label(\"STREET\")\n",
    "ner.add_label(\"AREA\")\n",
    "ner.add_label(\"DISTRICT\")\n",
    "ner.add_label(\"PINCODE\")\n",
    "\n",
    "# Convert data to spaCy's Example format\n",
    "train_examples = []\n",
    "for text, annotations in TRAIN_DATA:\n",
    "    doc = nlp.make_doc(text)\n",
    "    example = Example.from_dict(doc, annotations)\n",
    "    train_examples.append(example)\n",
    "\n",
    "# Start the training process\n",
    "optimizer = nlp.begin_training()\n",
    "\n",
    "# Train the model\n",
    "for epoch in range(20):  # You can adjust the number of epochs\n",
    "    random.shuffle(train_examples)\n",
    "    losses = {}\n",
    "    \n",
    "    for example in train_examples:\n",
    "        nlp.update([example], drop=0.5, losses=losses)\n",
    "\n",
    "    print(f\"Epoch {epoch + 1}, Losses: {losses}\")\n",
    "\n",
    "# Save the trained model\n",
    "nlp.to_disk(\"custom_ner_model\")\n",
    "\n",
    "# Load the trained model for testing\n",
    "nlp = spacy.load(\"custom_ner_model\")"
   ]
  },
  {
   "cell_type": "code",
   "execution_count": 9,
   "metadata": {},
   "outputs": [
    {
     "name": "stdout",
     "output_type": "stream",
     "text": [
      "111 DOOR_NO\n",
      "ABC Street STREET\n",
      "Areaname AREA\n",
      "Mumbai AREA\n",
      "100000 PINCODE \n"
     ]
    }
   ],
   "source": [
    "test_text = \"111, ABC Street, Areaname , Mumbai, 100000\"\n",
    "doc = nlp(test_text)\n",
    "\n",
    "for ent in doc.ents:\n",
    "    print(ent.text, ent.label_)\n"
   ]
  }
 ],
 "metadata": {
  "kernelspec": {
   "display_name": "Python 3",
   "language": "python",
   "name": "python3"
  },
  "language_info": {
   "codemirror_mode": {
    "name": "ipython",
    "version": 3
   },
   "file_extension": ".py",
   "mimetype": "text/x-python",
   "name": "python",
   "nbconvert_exporter": "python",
   "pygments_lexer": "ipython3",
   "version": "3.12.6"
  }
 },
 "nbformat": 4,
 "nbformat_minor": 2
}
